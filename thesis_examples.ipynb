{
 "cells": [
  {
   "cell_type": "code",
   "execution_count": 8,
   "metadata": {},
   "outputs": [
    {
     "name": "stdout",
     "output_type": "stream",
     "text": [
      "Token           | Relation | Head            | Children             | POS tag             \n",
      "----------------------------------------------------------------------\n",
      "The             | det      | cat             | []                   | DT                  \n",
      "large           | amod     | cat             | []                   | JJ                  \n",
      "cat             | nsubj    | chasing         | [The, large]         | NN                  \n",
      "is              | aux      | chasing         | []                   | VBZ                 \n",
      "chasing         | ROOT     | chasing         | [cat, is, mouse, .]  | VBG                 \n",
      "a               | det      | mouse           | []                   | DT                  \n",
      "mouse           | dobj     | chasing         | [a]                  | NN                  \n",
      ".               | punct    | chasing         | []                   | .                   \n"
     ]
    },
    {
     "data": {
      "text/plain": [
       "5481"
      ]
     },
     "execution_count": 8,
     "metadata": {},
     "output_type": "execute_result"
    }
   ],
   "source": [
    "import os\n",
    "import spacy\n",
    "from spacy import displacy\n",
    "from pathlib import Path\n",
    "\n",
    "# Load the language model\n",
    "nlp = spacy.load(\"en_core_web_lg\")\n",
    "\n",
    "# Set image path\n",
    "path = \"./images/ud_parses/\"\n",
    "sentence = 'The large cat is chasing a mouse.'\n",
    "\n",
    "# nlp function returns an object with individual token information, \n",
    "# linguistic features and relationships\n",
    "doc = nlp(sentence)\n",
    "\n",
    "print (\"{:<15} | {:<8} | {:<15} | {:<20} | {:<20}\".format('Token','Relation','Head', 'Children',\"POS tag\"))\n",
    "print (\"-\" * 70)\n",
    "\n",
    "for token in doc:\n",
    "  # Print the token, dependency nature, head and all dependents of the token\n",
    "  print (\"{:<15} | {:<8} | {:<15} | {:<20} | {:<20}\"\n",
    "         .format(str(token.text), str(token.dep_), str(token.head.text), str([child for child in token.children]), str(token.tag_)))\n",
    "  \n",
    "# Use displaCy to visualize the dependency \n",
    "svg = displacy.render(doc, style='dep', jupyter=False, options={'distance': 120})\n",
    "file_name = '-'.join([w.text for w in doc if not w.is_punct]) + \".svg\"\n",
    "\n",
    "if not os.path.exists(path):\n",
    "        os.makedirs(path)\n",
    "output_file = Path(path+ file_name)\n",
    "output_file.open(\"w\", encoding=\"utf-8\").write(svg)"
   ]
  }
 ],
 "metadata": {
  "kernelspec": {
   "display_name": "Python 3.8.10 ('venv_syntrans')",
   "language": "python",
   "name": "python3"
  },
  "language_info": {
   "codemirror_mode": {
    "name": "ipython",
    "version": 3
   },
   "file_extension": ".py",
   "mimetype": "text/x-python",
   "name": "python",
   "nbconvert_exporter": "python",
   "pygments_lexer": "ipython3",
   "version": "3.8.10"
  },
  "orig_nbformat": 4,
  "vscode": {
   "interpreter": {
    "hash": "e86a731642ee256d624a4d29e8688bb9c6ad7b39856affb444c6cc9f38126795"
   }
  }
 },
 "nbformat": 4,
 "nbformat_minor": 2
}
